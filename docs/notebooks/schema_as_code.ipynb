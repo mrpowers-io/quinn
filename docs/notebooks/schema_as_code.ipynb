{
 "cells": [
  {
   "cell_type": "markdown",
   "id": "57a1c914-7244-4759-8abc-9e27060eef7f",
   "metadata": {},
   "source": [
    "# Print SCHEMA as code\n",
    "\n",
    "Function, that take `pyspark.sql.types.StructType` and print a valid `Python` code."
   ]
  },
  {
   "cell_type": "code",
   "execution_count": 1,
   "id": "2505c5c1-15cc-47ea-b71d-d53472ae67ae",
   "metadata": {
    "tags": []
   },
   "outputs": [],
   "source": [
    "from quinn import print_schema_as_code"
   ]
  },
  {
   "cell_type": "code",
   "execution_count": 2,
   "id": "04338b8d-f604-4b59-9904-afa2fa7c4e4d",
   "metadata": {
    "tags": []
   },
   "outputs": [],
   "source": [
    "from pyspark.sql import types as T"
   ]
  },
  {
   "cell_type": "code",
   "execution_count": 3,
   "id": "68a70047-e805-4be8-be52-08b168a0363b",
   "metadata": {
    "tags": []
   },
   "outputs": [],
   "source": [
    "schema = T.StructType(\n",
    "    [\n",
    "        T.StructField(\"string_field\", T.StringType()),\n",
    "        T.StructField(\"decimal_38_10_field\", T.DecimalType(38, 10)),\n",
    "        T.StructField(\"decimal_10_2_field\", T.DecimalType(10, 2)),\n",
    "        T.StructField(\"array_of_double\", T.ArrayType(elementType=T.DoubleType())),\n",
    "        T.StructField(\"map_type\", T.MapType(keyType=T.StringType(), valueType=T.ShortType())),\n",
    "        T.StructField(\"struct_type\", T.StructType([T.StructField(\"t1\", T.StringType()), T.StructField(\"t2\", T.BooleanType())])),\n",
    "    ]\n",
    ")"
   ]
  },
  {
   "cell_type": "code",
   "execution_count": 4,
   "id": "61a487be-765a-46bf-881c-cc08b292e951",
   "metadata": {
    "tags": []
   },
   "outputs": [
    {
     "name": "stdout",
     "output_type": "stream",
     "text": [
      "StructType(\n",
      "\tfields=[\n",
      "\t\tStructField(\"string_field\", StringType(), True),\n",
      "\t\tStructField(\"decimal_38_10_field\", DecimalType(38, 10), True),\n",
      "\t\tStructField(\"decimal_10_2_field\", DecimalType(10, 2), True),\n",
      "\t\tStructField(\n",
      "\t\t\t\"array_of_double\",\n",
      "\t\t\tArrayType(DoubleType()),\n",
      "\t\t\tTrue,\n",
      "\t\t),\n",
      "\t\tStructField(\n",
      "\t\t\t\"map_type\",\n",
      "\t\t\tMapType(\n",
      "\t\t\t\tStringType(),\n",
      "\t\t\t\tShortType(),\n",
      "\t\t\t\tTrue,\n",
      "\t\t\t),\n",
      "\t\t\tTrue,\n",
      "\t\t),\n",
      "\t\tStructField(\n",
      "\t\t\t\"struct_type\",\n",
      "\t\t\tStructType(\n",
      "\t\t\t\tfields=[\n",
      "\t\t\t\t\tStructField(\"t1\", StringType(), True),\n",
      "\t\t\t\t\tStructField(\"t2\", BooleanType(), True),\n",
      "\t\t\t\t]\n",
      "\t\t\t),\n",
      "\t\t\tTrue,\n",
      "\t\t),\n",
      "\t]\n",
      ")\n"
     ]
    },
    {
     "data": {
      "text/plain": [
       "StructType([StructField('string_field', StringType(), True), StructField('decimal_38_10_field', DecimalType(38,10), True), StructField('decimal_10_2_field', DecimalType(10,2), True), StructField('array_of_double', ArrayType(DoubleType(), True), True), StructField('map_type', MapType(StringType(), ShortType(), True), True), StructField('struct_type', StructType([StructField('t1', StringType(), True), StructField('t2', BooleanType(), True)]), True)])"
      ]
     },
     "execution_count": 4,
     "metadata": {},
     "output_type": "execute_result"
    }
   ],
   "source": [
    "print(print_schema_as_code(schema))\n",
    "\n",
    "# Create a dictionary of PySpark SQL types to provide context to 'eval()' \n",
    "spark_type_dict = {k: getattr(T, k) for k in dir(T) if isinstance(getattr(T, k), type)}\n",
    "eval(print_schema_as_code(schema), {\"__builtins__\": None}, spark_type_dict)"
   ]
  },
  {
   "cell_type": "code",
   "execution_count": null,
   "id": "6fb30b81",
   "metadata": {},
   "outputs": [],
   "source": []
  }
 ],
 "metadata": {
  "kernelspec": {
   "display_name": "Python 3 (ipykernel)",
   "language": "python",
   "name": "python3"
  },
  "language_info": {
   "codemirror_mode": {
    "name": "ipython",
    "version": 3
   },
   "file_extension": ".py",
   "mimetype": "text/x-python",
   "name": "python",
   "nbconvert_exporter": "python",
   "pygments_lexer": "ipython3",
   "version": "3.10.12"
  }
 },
 "nbformat": 4,
 "nbformat_minor": 5
}
